{
 "cells": [
  {
   "cell_type": "code",
   "execution_count": null,
   "id": "89afcdb7",
   "metadata": {},
   "outputs": [],
   "source": [
    "import hashlib\n",
    "from langchain_community.document_loaders import TextLoader, DirectoryLoader\n",
    "from langchain_text_splitters import RecursiveCharacterTextSplitter\n",
    "from langchain.embeddings import SentenceTransformerEmbeddings\n",
    "\n",
    "from langchain.vectorstores import FAISS"
   ]
  },
  {
   "cell_type": "code",
   "execution_count": null,
   "id": "6c40f10e",
   "metadata": {},
   "outputs": [],
   "source": [
    "model = SentenceTransformerEmbeddings(model_name='all-MiniLM-L6-v2')\n"
   ]
  },
  {
   "cell_type": "code",
   "execution_count": 51,
   "id": "9eb3078d",
   "metadata": {},
   "outputs": [],
   "source": [
    "def gen_hash(text: str, size: int = 32):\n",
    "    return hashlib.sha256(text.encode('utf-8')).hexdigest()[:size]"
   ]
  },
  {
   "cell_type": "code",
   "execution_count": 52,
   "id": "aa7222a4",
   "metadata": {},
   "outputs": [],
   "source": [
    "loader = TextLoader('./docs/data_science_overview.txt')\n",
    "documents = loader.lazy_load()"
   ]
  },
  {
   "cell_type": "code",
   "execution_count": 53,
   "id": "676e9611",
   "metadata": {},
   "outputs": [],
   "source": [
    "splitter = RecursiveCharacterTextSplitter(chunk_size=500, chunk_overlap=100, add_start_index=True)\n",
    "chunks = splitter.split_documents(documents)"
   ]
  },
  {
   "cell_type": "code",
   "execution_count": 54,
   "id": "6aa18caa",
   "metadata": {},
   "outputs": [],
   "source": [
    "for chunk in chunks:\n",
    "    chunk.metadata['hash'] = gen_hash(chunk.page_content)"
   ]
  },
  {
   "cell_type": "code",
   "execution_count": null,
   "id": "9e3549b8",
   "metadata": {},
   "outputs": [],
   "source": [
    "db = FAISS.from_documents(chunks, model)"
   ]
  },
  {
   "cell_type": "code",
   "execution_count": 56,
   "id": "458492c4",
   "metadata": {},
   "outputs": [
    {
     "data": {
      "text/plain": [
       "<langchain_community.vectorstores.faiss.FAISS at 0x35f72b6e0>"
      ]
     },
     "execution_count": 56,
     "metadata": {},
     "output_type": "execute_result"
    }
   ],
   "source": [
    "db"
   ]
  },
  {
   "cell_type": "code",
   "execution_count": 71,
   "id": "6824e841",
   "metadata": {},
   "outputs": [
    {
     "data": {
      "text/plain": [
       "[(Document(id='c6991401-f36e-4a26-8b29-118ebb67f860', metadata={'source': './docs/data_science_overview.txt', 'start_index': 348, 'hash': 'd56174581a0ec6ce0a6111a80617024e'}, page_content='What is Data Science?\\n\\nData science is the practice of deriving actionable insights from data through a combination of:\\n- Statistical analysis\\n- Machine learning\\n- Data visualization\\n- Domain knowledge\\n- Programming skills\\n- Business acumen\\n\\nThe goal is to transform raw data into meaningful information that can drive decision-making and solve real-world problems.\\n\\nThe Data Science Process'),\n",
       "  np.float32(0.7887581)),\n",
       " (Document(id='3c94c512-d26d-4d1f-8a84-f0cec53a3ae0', metadata={'source': './docs/data_science_overview.txt', 'start_index': 0, 'hash': '4292541e16c9140bd5390294860997bf'}, page_content='Data Science: A Comprehensive Overview\\n\\nData science is an interdisciplinary field that uses scientific methods, processes, algorithms, and systems to extract knowledge and insights from structured and unstructured data. It combines aspects of statistics, computer science, mathematics, and domain expertise to analyze and interpret complex data.\\n\\nWhat is Data Science?'),\n",
       "  np.float32(0.71911573))]"
      ]
     },
     "execution_count": 71,
     "metadata": {},
     "output_type": "execute_result"
    }
   ],
   "source": [
    "documents = db.similarity_search_with_relevance_scores(\"What is data science?\", k=3)\n",
    "[document for document in documents if document[1] > 0.65]"
   ]
  },
  {
   "cell_type": "code",
   "execution_count": null,
   "id": "4b9d19da",
   "metadata": {},
   "outputs": [],
   "source": []
  }
 ],
 "metadata": {
  "kernelspec": {
   "display_name": "research-assistant",
   "language": "python",
   "name": "python3"
  },
  "language_info": {
   "codemirror_mode": {
    "name": "ipython",
    "version": 3
   },
   "file_extension": ".py",
   "mimetype": "text/x-python",
   "name": "python",
   "nbconvert_exporter": "python",
   "pygments_lexer": "ipython3",
   "version": "3.12.3"
  }
 },
 "nbformat": 4,
 "nbformat_minor": 5
}
